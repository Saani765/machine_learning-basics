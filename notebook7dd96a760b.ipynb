{
 "cells": [
  {
   "cell_type": "code",
   "execution_count": 1,
   "id": "19a91ca9",
   "metadata": {
    "_cell_guid": "b1076dfc-b9ad-4769-8c92-a6c4dae69d19",
    "_uuid": "8f2839f25d086af736a60e9eeb907d3b93b6e0e5",
    "execution": {
     "iopub.execute_input": "2023-06-20T17:51:41.717673Z",
     "iopub.status.busy": "2023-06-20T17:51:41.717244Z",
     "iopub.status.idle": "2023-06-20T17:51:41.729431Z",
     "shell.execute_reply": "2023-06-20T17:51:41.728101Z"
    },
    "papermill": {
     "duration": 0.024166,
     "end_time": "2023-06-20T17:51:41.731867",
     "exception": false,
     "start_time": "2023-06-20T17:51:41.707701",
     "status": "completed"
    },
    "tags": []
   },
   "outputs": [],
   "source": [
    "import pandas as pd \n",
    "import numpy as np\n",
    "import matplotlib.pyplot as plt\n"
   ]
  },
  {
   "cell_type": "code",
   "execution_count": 2,
   "id": "f48ed096",
   "metadata": {
    "execution": {
     "iopub.execute_input": "2023-06-20T17:51:41.748192Z",
     "iopub.status.busy": "2023-06-20T17:51:41.747758Z",
     "iopub.status.idle": "2023-06-20T17:51:41.783563Z",
     "shell.execute_reply": "2023-06-20T17:51:41.782628Z"
    },
    "papermill": {
     "duration": 0.046791,
     "end_time": "2023-06-20T17:51:41.786062",
     "exception": false,
     "start_time": "2023-06-20T17:51:41.739271",
     "status": "completed"
    },
    "tags": []
   },
   "outputs": [],
   "source": [
    "train_data=pd.read_csv(\"/kaggle/input/titanic/train.csv\")\n",
    "test_data=pd.read_csv(\"/kaggle/input/titanic/test.csv\")\n",
    "\n"
   ]
  },
  {
   "cell_type": "code",
   "execution_count": 3,
   "id": "38e7c167",
   "metadata": {
    "execution": {
     "iopub.execute_input": "2023-06-20T17:51:41.803172Z",
     "iopub.status.busy": "2023-06-20T17:51:41.802154Z",
     "iopub.status.idle": "2023-06-20T17:51:41.850741Z",
     "shell.execute_reply": "2023-06-20T17:51:41.849559Z"
    },
    "papermill": {
     "duration": 0.060407,
     "end_time": "2023-06-20T17:51:41.853922",
     "exception": false,
     "start_time": "2023-06-20T17:51:41.793515",
     "status": "completed"
    },
    "tags": []
   },
   "outputs": [
    {
     "data": {
      "text/html": [
       "<div>\n",
       "<style scoped>\n",
       "    .dataframe tbody tr th:only-of-type {\n",
       "        vertical-align: middle;\n",
       "    }\n",
       "\n",
       "    .dataframe tbody tr th {\n",
       "        vertical-align: top;\n",
       "    }\n",
       "\n",
       "    .dataframe thead th {\n",
       "        text-align: right;\n",
       "    }\n",
       "</style>\n",
       "<table border=\"1\" class=\"dataframe\">\n",
       "  <thead>\n",
       "    <tr style=\"text-align: right;\">\n",
       "      <th></th>\n",
       "      <th>PassengerId</th>\n",
       "      <th>Survived</th>\n",
       "      <th>Pclass</th>\n",
       "      <th>Name</th>\n",
       "      <th>Sex</th>\n",
       "      <th>Age</th>\n",
       "      <th>SibSp</th>\n",
       "      <th>Parch</th>\n",
       "      <th>Ticket</th>\n",
       "      <th>Fare</th>\n",
       "      <th>Cabin</th>\n",
       "      <th>Embarked</th>\n",
       "    </tr>\n",
       "  </thead>\n",
       "  <tbody>\n",
       "    <tr>\n",
       "      <th>0</th>\n",
       "      <td>1</td>\n",
       "      <td>0</td>\n",
       "      <td>3</td>\n",
       "      <td>Braund, Mr. Owen Harris</td>\n",
       "      <td>male</td>\n",
       "      <td>22.0</td>\n",
       "      <td>1</td>\n",
       "      <td>0</td>\n",
       "      <td>A/5 21171</td>\n",
       "      <td>7.2500</td>\n",
       "      <td>NaN</td>\n",
       "      <td>S</td>\n",
       "    </tr>\n",
       "    <tr>\n",
       "      <th>1</th>\n",
       "      <td>2</td>\n",
       "      <td>1</td>\n",
       "      <td>1</td>\n",
       "      <td>Cumings, Mrs. John Bradley (Florence Briggs Th...</td>\n",
       "      <td>female</td>\n",
       "      <td>38.0</td>\n",
       "      <td>1</td>\n",
       "      <td>0</td>\n",
       "      <td>PC 17599</td>\n",
       "      <td>71.2833</td>\n",
       "      <td>C85</td>\n",
       "      <td>C</td>\n",
       "    </tr>\n",
       "    <tr>\n",
       "      <th>2</th>\n",
       "      <td>3</td>\n",
       "      <td>1</td>\n",
       "      <td>3</td>\n",
       "      <td>Heikkinen, Miss. Laina</td>\n",
       "      <td>female</td>\n",
       "      <td>26.0</td>\n",
       "      <td>0</td>\n",
       "      <td>0</td>\n",
       "      <td>STON/O2. 3101282</td>\n",
       "      <td>7.9250</td>\n",
       "      <td>NaN</td>\n",
       "      <td>S</td>\n",
       "    </tr>\n",
       "    <tr>\n",
       "      <th>3</th>\n",
       "      <td>4</td>\n",
       "      <td>1</td>\n",
       "      <td>1</td>\n",
       "      <td>Futrelle, Mrs. Jacques Heath (Lily May Peel)</td>\n",
       "      <td>female</td>\n",
       "      <td>35.0</td>\n",
       "      <td>1</td>\n",
       "      <td>0</td>\n",
       "      <td>113803</td>\n",
       "      <td>53.1000</td>\n",
       "      <td>C123</td>\n",
       "      <td>S</td>\n",
       "    </tr>\n",
       "    <tr>\n",
       "      <th>4</th>\n",
       "      <td>5</td>\n",
       "      <td>0</td>\n",
       "      <td>3</td>\n",
       "      <td>Allen, Mr. William Henry</td>\n",
       "      <td>male</td>\n",
       "      <td>35.0</td>\n",
       "      <td>0</td>\n",
       "      <td>0</td>\n",
       "      <td>373450</td>\n",
       "      <td>8.0500</td>\n",
       "      <td>NaN</td>\n",
       "      <td>S</td>\n",
       "    </tr>\n",
       "    <tr>\n",
       "      <th>...</th>\n",
       "      <td>...</td>\n",
       "      <td>...</td>\n",
       "      <td>...</td>\n",
       "      <td>...</td>\n",
       "      <td>...</td>\n",
       "      <td>...</td>\n",
       "      <td>...</td>\n",
       "      <td>...</td>\n",
       "      <td>...</td>\n",
       "      <td>...</td>\n",
       "      <td>...</td>\n",
       "      <td>...</td>\n",
       "    </tr>\n",
       "    <tr>\n",
       "      <th>886</th>\n",
       "      <td>887</td>\n",
       "      <td>0</td>\n",
       "      <td>2</td>\n",
       "      <td>Montvila, Rev. Juozas</td>\n",
       "      <td>male</td>\n",
       "      <td>27.0</td>\n",
       "      <td>0</td>\n",
       "      <td>0</td>\n",
       "      <td>211536</td>\n",
       "      <td>13.0000</td>\n",
       "      <td>NaN</td>\n",
       "      <td>S</td>\n",
       "    </tr>\n",
       "    <tr>\n",
       "      <th>887</th>\n",
       "      <td>888</td>\n",
       "      <td>1</td>\n",
       "      <td>1</td>\n",
       "      <td>Graham, Miss. Margaret Edith</td>\n",
       "      <td>female</td>\n",
       "      <td>19.0</td>\n",
       "      <td>0</td>\n",
       "      <td>0</td>\n",
       "      <td>112053</td>\n",
       "      <td>30.0000</td>\n",
       "      <td>B42</td>\n",
       "      <td>S</td>\n",
       "    </tr>\n",
       "    <tr>\n",
       "      <th>888</th>\n",
       "      <td>889</td>\n",
       "      <td>0</td>\n",
       "      <td>3</td>\n",
       "      <td>Johnston, Miss. Catherine Helen \"Carrie\"</td>\n",
       "      <td>female</td>\n",
       "      <td>NaN</td>\n",
       "      <td>1</td>\n",
       "      <td>2</td>\n",
       "      <td>W./C. 6607</td>\n",
       "      <td>23.4500</td>\n",
       "      <td>NaN</td>\n",
       "      <td>S</td>\n",
       "    </tr>\n",
       "    <tr>\n",
       "      <th>889</th>\n",
       "      <td>890</td>\n",
       "      <td>1</td>\n",
       "      <td>1</td>\n",
       "      <td>Behr, Mr. Karl Howell</td>\n",
       "      <td>male</td>\n",
       "      <td>26.0</td>\n",
       "      <td>0</td>\n",
       "      <td>0</td>\n",
       "      <td>111369</td>\n",
       "      <td>30.0000</td>\n",
       "      <td>C148</td>\n",
       "      <td>C</td>\n",
       "    </tr>\n",
       "    <tr>\n",
       "      <th>890</th>\n",
       "      <td>891</td>\n",
       "      <td>0</td>\n",
       "      <td>3</td>\n",
       "      <td>Dooley, Mr. Patrick</td>\n",
       "      <td>male</td>\n",
       "      <td>32.0</td>\n",
       "      <td>0</td>\n",
       "      <td>0</td>\n",
       "      <td>370376</td>\n",
       "      <td>7.7500</td>\n",
       "      <td>NaN</td>\n",
       "      <td>Q</td>\n",
       "    </tr>\n",
       "  </tbody>\n",
       "</table>\n",
       "<p>891 rows × 12 columns</p>\n",
       "</div>"
      ],
      "text/plain": [
       "     PassengerId  Survived  Pclass  \\\n",
       "0              1         0       3   \n",
       "1              2         1       1   \n",
       "2              3         1       3   \n",
       "3              4         1       1   \n",
       "4              5         0       3   \n",
       "..           ...       ...     ...   \n",
       "886          887         0       2   \n",
       "887          888         1       1   \n",
       "888          889         0       3   \n",
       "889          890         1       1   \n",
       "890          891         0       3   \n",
       "\n",
       "                                                  Name     Sex   Age  SibSp  \\\n",
       "0                              Braund, Mr. Owen Harris    male  22.0      1   \n",
       "1    Cumings, Mrs. John Bradley (Florence Briggs Th...  female  38.0      1   \n",
       "2                               Heikkinen, Miss. Laina  female  26.0      0   \n",
       "3         Futrelle, Mrs. Jacques Heath (Lily May Peel)  female  35.0      1   \n",
       "4                             Allen, Mr. William Henry    male  35.0      0   \n",
       "..                                                 ...     ...   ...    ...   \n",
       "886                              Montvila, Rev. Juozas    male  27.0      0   \n",
       "887                       Graham, Miss. Margaret Edith  female  19.0      0   \n",
       "888           Johnston, Miss. Catherine Helen \"Carrie\"  female   NaN      1   \n",
       "889                              Behr, Mr. Karl Howell    male  26.0      0   \n",
       "890                                Dooley, Mr. Patrick    male  32.0      0   \n",
       "\n",
       "     Parch            Ticket     Fare Cabin Embarked  \n",
       "0        0         A/5 21171   7.2500   NaN        S  \n",
       "1        0          PC 17599  71.2833   C85        C  \n",
       "2        0  STON/O2. 3101282   7.9250   NaN        S  \n",
       "3        0            113803  53.1000  C123        S  \n",
       "4        0            373450   8.0500   NaN        S  \n",
       "..     ...               ...      ...   ...      ...  \n",
       "886      0            211536  13.0000   NaN        S  \n",
       "887      0            112053  30.0000   B42        S  \n",
       "888      2        W./C. 6607  23.4500   NaN        S  \n",
       "889      0            111369  30.0000  C148        C  \n",
       "890      0            370376   7.7500   NaN        Q  \n",
       "\n",
       "[891 rows x 12 columns]"
      ]
     },
     "execution_count": 3,
     "metadata": {},
     "output_type": "execute_result"
    }
   ],
   "source": [
    "train_data"
   ]
  },
  {
   "cell_type": "code",
   "execution_count": 4,
   "id": "b0c9ef72",
   "metadata": {
    "execution": {
     "iopub.execute_input": "2023-06-20T17:51:41.872180Z",
     "iopub.status.busy": "2023-06-20T17:51:41.871497Z",
     "iopub.status.idle": "2023-06-20T17:51:41.878072Z",
     "shell.execute_reply": "2023-06-20T17:51:41.877212Z"
    },
    "papermill": {
     "duration": 0.018783,
     "end_time": "2023-06-20T17:51:41.880534",
     "exception": false,
     "start_time": "2023-06-20T17:51:41.861751",
     "status": "completed"
    },
    "tags": []
   },
   "outputs": [
    {
     "data": {
      "text/plain": [
       "(891, 12)"
      ]
     },
     "execution_count": 4,
     "metadata": {},
     "output_type": "execute_result"
    }
   ],
   "source": [
    "train_data.shape\n",
    "\n"
   ]
  },
  {
   "cell_type": "code",
   "execution_count": 5,
   "id": "d693efb7",
   "metadata": {
    "execution": {
     "iopub.execute_input": "2023-06-20T17:51:41.901908Z",
     "iopub.status.busy": "2023-06-20T17:51:41.900737Z",
     "iopub.status.idle": "2023-06-20T17:51:41.908238Z",
     "shell.execute_reply": "2023-06-20T17:51:41.907068Z"
    },
    "papermill": {
     "duration": 0.021632,
     "end_time": "2023-06-20T17:51:41.910518",
     "exception": false,
     "start_time": "2023-06-20T17:51:41.888886",
     "status": "completed"
    },
    "tags": []
   },
   "outputs": [
    {
     "data": {
      "text/plain": [
       "(418, 11)"
      ]
     },
     "execution_count": 5,
     "metadata": {},
     "output_type": "execute_result"
    }
   ],
   "source": [
    "test_data.shape"
   ]
  },
  {
   "cell_type": "code",
   "execution_count": 6,
   "id": "30c1de95",
   "metadata": {
    "execution": {
     "iopub.execute_input": "2023-06-20T17:51:41.928845Z",
     "iopub.status.busy": "2023-06-20T17:51:41.928152Z",
     "iopub.status.idle": "2023-06-20T17:51:41.946781Z",
     "shell.execute_reply": "2023-06-20T17:51:41.945626Z"
    },
    "papermill": {
     "duration": 0.030583,
     "end_time": "2023-06-20T17:51:41.949174",
     "exception": false,
     "start_time": "2023-06-20T17:51:41.918591",
     "status": "completed"
    },
    "tags": []
   },
   "outputs": [
    {
     "data": {
      "text/plain": [
       "<bound method DataFrame.value_counts of      PassengerId  Survived  Pclass  \\\n",
       "1              2         1       1   \n",
       "2              3         1       3   \n",
       "3              4         1       1   \n",
       "8              9         1       3   \n",
       "9             10         1       2   \n",
       "..           ...       ...     ...   \n",
       "880          881         1       2   \n",
       "882          883         0       3   \n",
       "885          886         0       3   \n",
       "887          888         1       1   \n",
       "888          889         0       3   \n",
       "\n",
       "                                                  Name     Sex   Age  SibSp  \\\n",
       "1    Cumings, Mrs. John Bradley (Florence Briggs Th...  female  38.0      1   \n",
       "2                               Heikkinen, Miss. Laina  female  26.0      0   \n",
       "3         Futrelle, Mrs. Jacques Heath (Lily May Peel)  female  35.0      1   \n",
       "8    Johnson, Mrs. Oscar W (Elisabeth Vilhelmina Berg)  female  27.0      0   \n",
       "9                  Nasser, Mrs. Nicholas (Adele Achem)  female  14.0      1   \n",
       "..                                                 ...     ...   ...    ...   \n",
       "880       Shelley, Mrs. William (Imanita Parrish Hall)  female  25.0      0   \n",
       "882                       Dahlberg, Miss. Gerda Ulrika  female  22.0      0   \n",
       "885               Rice, Mrs. William (Margaret Norton)  female  39.0      0   \n",
       "887                       Graham, Miss. Margaret Edith  female  19.0      0   \n",
       "888           Johnston, Miss. Catherine Helen \"Carrie\"  female   NaN      1   \n",
       "\n",
       "     Parch            Ticket     Fare Cabin Embarked  \n",
       "1        0          PC 17599  71.2833   C85        C  \n",
       "2        0  STON/O2. 3101282   7.9250   NaN        S  \n",
       "3        0            113803  53.1000  C123        S  \n",
       "8        2            347742  11.1333   NaN        S  \n",
       "9        0            237736  30.0708   NaN        C  \n",
       "..     ...               ...      ...   ...      ...  \n",
       "880      1            230433  26.0000   NaN        S  \n",
       "882      0              7552  10.5167   NaN        S  \n",
       "885      5            382652  29.1250   NaN        Q  \n",
       "887      0            112053  30.0000   B42        S  \n",
       "888      2        W./C. 6607  23.4500   NaN        S  \n",
       "\n",
       "[314 rows x 12 columns]>"
      ]
     },
     "execution_count": 6,
     "metadata": {},
     "output_type": "execute_result"
    }
   ],
   "source": [
    "train_data[train_data.Sex==\"female\"].value_counts"
   ]
  },
  {
   "cell_type": "code",
   "execution_count": 7,
   "id": "7e14dfe4",
   "metadata": {
    "execution": {
     "iopub.execute_input": "2023-06-20T17:51:41.967989Z",
     "iopub.status.busy": "2023-06-20T17:51:41.967350Z",
     "iopub.status.idle": "2023-06-20T17:51:41.973190Z",
     "shell.execute_reply": "2023-06-20T17:51:41.972378Z"
    },
    "papermill": {
     "duration": 0.017991,
     "end_time": "2023-06-20T17:51:41.975508",
     "exception": false,
     "start_time": "2023-06-20T17:51:41.957517",
     "status": "completed"
    },
    "tags": []
   },
   "outputs": [],
   "source": [
    "train_data['Embarked'].fillna('C', inplace=True)"
   ]
  },
  {
   "cell_type": "code",
   "execution_count": 8,
   "id": "bde0c6e2",
   "metadata": {
    "execution": {
     "iopub.execute_input": "2023-06-20T17:51:41.994341Z",
     "iopub.status.busy": "2023-06-20T17:51:41.993684Z",
     "iopub.status.idle": "2023-06-20T17:51:42.000798Z",
     "shell.execute_reply": "2023-06-20T17:51:41.999501Z"
    },
    "papermill": {
     "duration": 0.020019,
     "end_time": "2023-06-20T17:51:42.003782",
     "exception": false,
     "start_time": "2023-06-20T17:51:41.983763",
     "status": "completed"
    },
    "tags": []
   },
   "outputs": [],
   "source": [
    "train_age=np.random.randint(train_data[\"Age\"].mean()-train_data[\"Age\"].std(), train_data[\"Age\"].mean()+train_data[\"Age\"].std(),177)\n",
    "\n"
   ]
  },
  {
   "cell_type": "code",
   "execution_count": 9,
   "id": "8f294c02",
   "metadata": {
    "execution": {
     "iopub.execute_input": "2023-06-20T17:51:42.023599Z",
     "iopub.status.busy": "2023-06-20T17:51:42.022448Z",
     "iopub.status.idle": "2023-06-20T17:51:42.030170Z",
     "shell.execute_reply": "2023-06-20T17:51:42.029289Z"
    },
    "papermill": {
     "duration": 0.020261,
     "end_time": "2023-06-20T17:51:42.032568",
     "exception": false,
     "start_time": "2023-06-20T17:51:42.012307",
     "status": "completed"
    },
    "tags": []
   },
   "outputs": [],
   "source": [
    "test_age=np.random.randint(test_data[\"Age\"].mean()-test_data[\"Age\"].std(), test_data[\"Age\"].mean()+test_data[\"Age\"].std(),86)"
   ]
  },
  {
   "cell_type": "code",
   "execution_count": 10,
   "id": "9077f1cc",
   "metadata": {
    "execution": {
     "iopub.execute_input": "2023-06-20T17:51:42.051951Z",
     "iopub.status.busy": "2023-06-20T17:51:42.050699Z",
     "iopub.status.idle": "2023-06-20T17:51:42.061913Z",
     "shell.execute_reply": "2023-06-20T17:51:42.060714Z"
    },
    "papermill": {
     "duration": 0.024394,
     "end_time": "2023-06-20T17:51:42.065290",
     "exception": false,
     "start_time": "2023-06-20T17:51:42.040896",
     "status": "completed"
    },
    "tags": []
   },
   "outputs": [
    {
     "name": "stderr",
     "output_type": "stream",
     "text": [
      "/tmp/ipykernel_21/75330862.py:1: SettingWithCopyWarning: \n",
      "A value is trying to be set on a copy of a slice from a DataFrame\n",
      "\n",
      "See the caveats in the documentation: https://pandas.pydata.org/pandas-docs/stable/user_guide/indexing.html#returning-a-view-versus-a-copy\n",
      "  train_data['Age'][train_data['Age'].isnull()]=train_age\n"
     ]
    }
   ],
   "source": [
    "train_data['Age'][train_data['Age'].isnull()]=train_age"
   ]
  },
  {
   "cell_type": "code",
   "execution_count": 11,
   "id": "0074b909",
   "metadata": {
    "execution": {
     "iopub.execute_input": "2023-06-20T17:51:42.084637Z",
     "iopub.status.busy": "2023-06-20T17:51:42.084186Z",
     "iopub.status.idle": "2023-06-20T17:51:42.091895Z",
     "shell.execute_reply": "2023-06-20T17:51:42.090529Z"
    },
    "papermill": {
     "duration": 0.020615,
     "end_time": "2023-06-20T17:51:42.094944",
     "exception": false,
     "start_time": "2023-06-20T17:51:42.074329",
     "status": "completed"
    },
    "tags": []
   },
   "outputs": [
    {
     "name": "stderr",
     "output_type": "stream",
     "text": [
      "/tmp/ipykernel_21/3100514029.py:1: SettingWithCopyWarning: \n",
      "A value is trying to be set on a copy of a slice from a DataFrame\n",
      "\n",
      "See the caveats in the documentation: https://pandas.pydata.org/pandas-docs/stable/user_guide/indexing.html#returning-a-view-versus-a-copy\n",
      "  test_data['Age'][test_data['Age'].isnull()]=test_age\n"
     ]
    }
   ],
   "source": [
    "test_data['Age'][test_data['Age'].isnull()]=test_age"
   ]
  },
  {
   "cell_type": "code",
   "execution_count": 12,
   "id": "c3ae4e15",
   "metadata": {
    "execution": {
     "iopub.execute_input": "2023-06-20T17:51:42.115191Z",
     "iopub.status.busy": "2023-06-20T17:51:42.114721Z",
     "iopub.status.idle": "2023-06-20T17:51:42.127613Z",
     "shell.execute_reply": "2023-06-20T17:51:42.126283Z"
    },
    "papermill": {
     "duration": 0.025973,
     "end_time": "2023-06-20T17:51:42.130329",
     "exception": false,
     "start_time": "2023-06-20T17:51:42.104356",
     "status": "completed"
    },
    "tags": []
   },
   "outputs": [
    {
     "data": {
      "text/plain": [
       "PassengerId      0\n",
       "Survived         0\n",
       "Pclass           0\n",
       "Name             0\n",
       "Sex              0\n",
       "Age              0\n",
       "SibSp            0\n",
       "Parch            0\n",
       "Ticket           0\n",
       "Fare             0\n",
       "Cabin          687\n",
       "Embarked         0\n",
       "dtype: int64"
      ]
     },
     "execution_count": 12,
     "metadata": {},
     "output_type": "execute_result"
    }
   ],
   "source": [
    "train_data.isnull().sum()"
   ]
  },
  {
   "cell_type": "code",
   "execution_count": 13,
   "id": "697b9a96",
   "metadata": {
    "execution": {
     "iopub.execute_input": "2023-06-20T17:51:42.149782Z",
     "iopub.status.busy": "2023-06-20T17:51:42.149329Z",
     "iopub.status.idle": "2023-06-20T17:51:42.157210Z",
     "shell.execute_reply": "2023-06-20T17:51:42.155947Z"
    },
    "papermill": {
     "duration": 0.020628,
     "end_time": "2023-06-20T17:51:42.159798",
     "exception": false,
     "start_time": "2023-06-20T17:51:42.139170",
     "status": "completed"
    },
    "tags": []
   },
   "outputs": [],
   "source": [
    "train_data.drop(columns=['Cabin','Fare'], inplace=True)"
   ]
  },
  {
   "cell_type": "code",
   "execution_count": 14,
   "id": "88c6904a",
   "metadata": {
    "execution": {
     "iopub.execute_input": "2023-06-20T17:51:42.179432Z",
     "iopub.status.busy": "2023-06-20T17:51:42.178975Z",
     "iopub.status.idle": "2023-06-20T17:51:42.185659Z",
     "shell.execute_reply": "2023-06-20T17:51:42.184337Z"
    },
    "papermill": {
     "duration": 0.019686,
     "end_time": "2023-06-20T17:51:42.188278",
     "exception": false,
     "start_time": "2023-06-20T17:51:42.168592",
     "status": "completed"
    },
    "tags": []
   },
   "outputs": [],
   "source": [
    "test_data.drop(columns=['Cabin','Fare'],inplace=True)"
   ]
  },
  {
   "cell_type": "code",
   "execution_count": 15,
   "id": "7e4e48f3",
   "metadata": {
    "execution": {
     "iopub.execute_input": "2023-06-20T17:51:42.208014Z",
     "iopub.status.busy": "2023-06-20T17:51:42.207616Z",
     "iopub.status.idle": "2023-06-20T17:51:42.219026Z",
     "shell.execute_reply": "2023-06-20T17:51:42.217560Z"
    },
    "papermill": {
     "duration": 0.024629,
     "end_time": "2023-06-20T17:51:42.222010",
     "exception": false,
     "start_time": "2023-06-20T17:51:42.197381",
     "status": "completed"
    },
    "tags": []
   },
   "outputs": [
    {
     "data": {
      "text/plain": [
       "PassengerId    0\n",
       "Survived       0\n",
       "Pclass         0\n",
       "Name           0\n",
       "Sex            0\n",
       "Age            0\n",
       "SibSp          0\n",
       "Parch          0\n",
       "Ticket         0\n",
       "Embarked       0\n",
       "dtype: int64"
      ]
     },
     "execution_count": 15,
     "metadata": {},
     "output_type": "execute_result"
    }
   ],
   "source": [
    "train_data.isnull().sum()"
   ]
  },
  {
   "cell_type": "code",
   "execution_count": 16,
   "id": "bdb0bc4b",
   "metadata": {
    "execution": {
     "iopub.execute_input": "2023-06-20T17:51:42.242598Z",
     "iopub.status.busy": "2023-06-20T17:51:42.242175Z",
     "iopub.status.idle": "2023-06-20T17:51:43.941065Z",
     "shell.execute_reply": "2023-06-20T17:51:43.940031Z"
    },
    "papermill": {
     "duration": 1.71225,
     "end_time": "2023-06-20T17:51:43.943786",
     "exception": false,
     "start_time": "2023-06-20T17:51:42.231536",
     "status": "completed"
    },
    "tags": []
   },
   "outputs": [],
   "source": [
    "from xgboost import XGBClassifier"
   ]
  },
  {
   "cell_type": "code",
   "execution_count": 17,
   "id": "92aeb42d",
   "metadata": {
    "execution": {
     "iopub.execute_input": "2023-06-20T17:51:43.962995Z",
     "iopub.status.busy": "2023-06-20T17:51:43.962575Z",
     "iopub.status.idle": "2023-06-20T17:51:43.971576Z",
     "shell.execute_reply": "2023-06-20T17:51:43.970372Z"
    },
    "papermill": {
     "duration": 0.021332,
     "end_time": "2023-06-20T17:51:43.973918",
     "exception": false,
     "start_time": "2023-06-20T17:51:43.952586",
     "status": "completed"
    },
    "tags": []
   },
   "outputs": [
    {
     "data": {
      "text/plain": [
       "0      0\n",
       "1      1\n",
       "2      1\n",
       "3      1\n",
       "4      0\n",
       "      ..\n",
       "886    0\n",
       "887    1\n",
       "888    0\n",
       "889    1\n",
       "890    0\n",
       "Name: Survived, Length: 891, dtype: int64"
      ]
     },
     "execution_count": 17,
     "metadata": {},
     "output_type": "execute_result"
    }
   ],
   "source": [
    "target=train_data['Survived']\n",
    "target"
   ]
  },
  {
   "cell_type": "code",
   "execution_count": 18,
   "id": "79f39c66",
   "metadata": {
    "execution": {
     "iopub.execute_input": "2023-06-20T17:51:43.993512Z",
     "iopub.status.busy": "2023-06-20T17:51:43.993098Z",
     "iopub.status.idle": "2023-06-20T17:51:44.007359Z",
     "shell.execute_reply": "2023-06-20T17:51:44.006196Z"
    },
    "papermill": {
     "duration": 0.027397,
     "end_time": "2023-06-20T17:51:44.010200",
     "exception": false,
     "start_time": "2023-06-20T17:51:43.982803",
     "status": "completed"
    },
    "tags": []
   },
   "outputs": [],
   "source": [
    "features=['Sex','SibSp','Pclass','Parch']\n",
    "X=pd.get_dummies(train_data[features])\n",
    "X_test=pd.get_dummies(test_data[features])"
   ]
  },
  {
   "cell_type": "code",
   "execution_count": 19,
   "id": "422adb87",
   "metadata": {
    "execution": {
     "iopub.execute_input": "2023-06-20T17:51:44.030752Z",
     "iopub.status.busy": "2023-06-20T17:51:44.030148Z",
     "iopub.status.idle": "2023-06-20T17:51:44.148865Z",
     "shell.execute_reply": "2023-06-20T17:51:44.147917Z"
    },
    "papermill": {
     "duration": 0.132429,
     "end_time": "2023-06-20T17:51:44.151833",
     "exception": false,
     "start_time": "2023-06-20T17:51:44.019404",
     "status": "completed"
    },
    "tags": []
   },
   "outputs": [],
   "source": [
    "model=XGBClassifier()\n",
    "model.fit(X,target)\n",
    "predictions=model.predict(X_test)"
   ]
  },
  {
   "cell_type": "code",
   "execution_count": 20,
   "id": "0b4cca51",
   "metadata": {
    "execution": {
     "iopub.execute_input": "2023-06-20T17:51:44.173096Z",
     "iopub.status.busy": "2023-06-20T17:51:44.172682Z",
     "iopub.status.idle": "2023-06-20T17:51:44.186185Z",
     "shell.execute_reply": "2023-06-20T17:51:44.185041Z"
    },
    "papermill": {
     "duration": 0.027394,
     "end_time": "2023-06-20T17:51:44.189076",
     "exception": false,
     "start_time": "2023-06-20T17:51:44.161682",
     "status": "completed"
    },
    "tags": []
   },
   "outputs": [],
   "source": [
    "output=pd.DataFrame({'PassengerId' :test_data.PassengerId, 'Survived':predictions})\n",
    "output.to_csv('first_ever.csv',index=False)"
   ]
  },
  {
   "cell_type": "code",
   "execution_count": 21,
   "id": "1e7120c6",
   "metadata": {
    "execution": {
     "iopub.execute_input": "2023-06-20T17:51:44.209012Z",
     "iopub.status.busy": "2023-06-20T17:51:44.208639Z",
     "iopub.status.idle": "2023-06-20T17:51:44.220551Z",
     "shell.execute_reply": "2023-06-20T17:51:44.219312Z"
    },
    "papermill": {
     "duration": 0.025494,
     "end_time": "2023-06-20T17:51:44.223415",
     "exception": false,
     "start_time": "2023-06-20T17:51:44.197921",
     "status": "completed"
    },
    "tags": []
   },
   "outputs": [
    {
     "data": {
      "text/html": [
       "<div>\n",
       "<style scoped>\n",
       "    .dataframe tbody tr th:only-of-type {\n",
       "        vertical-align: middle;\n",
       "    }\n",
       "\n",
       "    .dataframe tbody tr th {\n",
       "        vertical-align: top;\n",
       "    }\n",
       "\n",
       "    .dataframe thead th {\n",
       "        text-align: right;\n",
       "    }\n",
       "</style>\n",
       "<table border=\"1\" class=\"dataframe\">\n",
       "  <thead>\n",
       "    <tr style=\"text-align: right;\">\n",
       "      <th></th>\n",
       "      <th>PassengerId</th>\n",
       "      <th>Survived</th>\n",
       "    </tr>\n",
       "  </thead>\n",
       "  <tbody>\n",
       "    <tr>\n",
       "      <th>0</th>\n",
       "      <td>892</td>\n",
       "      <td>0</td>\n",
       "    </tr>\n",
       "    <tr>\n",
       "      <th>1</th>\n",
       "      <td>893</td>\n",
       "      <td>0</td>\n",
       "    </tr>\n",
       "    <tr>\n",
       "      <th>2</th>\n",
       "      <td>894</td>\n",
       "      <td>0</td>\n",
       "    </tr>\n",
       "    <tr>\n",
       "      <th>3</th>\n",
       "      <td>895</td>\n",
       "      <td>0</td>\n",
       "    </tr>\n",
       "    <tr>\n",
       "      <th>4</th>\n",
       "      <td>896</td>\n",
       "      <td>0</td>\n",
       "    </tr>\n",
       "    <tr>\n",
       "      <th>...</th>\n",
       "      <td>...</td>\n",
       "      <td>...</td>\n",
       "    </tr>\n",
       "    <tr>\n",
       "      <th>413</th>\n",
       "      <td>1305</td>\n",
       "      <td>0</td>\n",
       "    </tr>\n",
       "    <tr>\n",
       "      <th>414</th>\n",
       "      <td>1306</td>\n",
       "      <td>1</td>\n",
       "    </tr>\n",
       "    <tr>\n",
       "      <th>415</th>\n",
       "      <td>1307</td>\n",
       "      <td>0</td>\n",
       "    </tr>\n",
       "    <tr>\n",
       "      <th>416</th>\n",
       "      <td>1308</td>\n",
       "      <td>0</td>\n",
       "    </tr>\n",
       "    <tr>\n",
       "      <th>417</th>\n",
       "      <td>1309</td>\n",
       "      <td>0</td>\n",
       "    </tr>\n",
       "  </tbody>\n",
       "</table>\n",
       "<p>418 rows × 2 columns</p>\n",
       "</div>"
      ],
      "text/plain": [
       "     PassengerId  Survived\n",
       "0            892         0\n",
       "1            893         0\n",
       "2            894         0\n",
       "3            895         0\n",
       "4            896         0\n",
       "..           ...       ...\n",
       "413         1305         0\n",
       "414         1306         1\n",
       "415         1307         0\n",
       "416         1308         0\n",
       "417         1309         0\n",
       "\n",
       "[418 rows x 2 columns]"
      ]
     },
     "execution_count": 21,
     "metadata": {},
     "output_type": "execute_result"
    }
   ],
   "source": [
    "output\n"
   ]
  }
 ],
 "metadata": {
  "kernelspec": {
   "display_name": "Python 3",
   "language": "python",
   "name": "python3"
  },
  "language_info": {
   "codemirror_mode": {
    "name": "ipython",
    "version": 3
   },
   "file_extension": ".py",
   "mimetype": "text/x-python",
   "name": "python",
   "nbconvert_exporter": "python",
   "pygments_lexer": "ipython3",
   "version": "3.10.10"
  },
  "papermill": {
   "default_parameters": {},
   "duration": 16.812714,
   "end_time": "2023-06-20T17:51:45.255914",
   "environment_variables": {},
   "exception": null,
   "input_path": "__notebook__.ipynb",
   "output_path": "__notebook__.ipynb",
   "parameters": {},
   "start_time": "2023-06-20T17:51:28.443200",
   "version": "2.4.0"
  }
 },
 "nbformat": 4,
 "nbformat_minor": 5
}
